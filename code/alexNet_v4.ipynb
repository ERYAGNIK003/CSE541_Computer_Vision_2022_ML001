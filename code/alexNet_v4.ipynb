{
 "cells": [
  {
   "cell_type": "markdown",
   "id": "8cc2ff13",
   "metadata": {},
   "source": [
    "import sys\n",
    "!conda install --yes --prefix {sys.prefix} imutils"
   ]
  },
  {
   "cell_type": "markdown",
   "id": "8821a298",
   "metadata": {},
   "source": [
    "Data pre-processing == \" move smaller images \"\n",
    "Use New dataset - Re-calculate  weights for loss function\n",
    "Alexnet_50_x_50 + NewDataset\n",
    "CONV + GAP"
   ]
  },
  {
   "cell_type": "code",
   "execution_count": 20,
   "id": "1b09b35c",
   "metadata": {},
   "outputs": [
    {
     "name": "stdout",
     "output_type": "stream",
     "text": [
      "2.2.0\n"
     ]
    }
   ],
   "source": [
    "from tensorflow.keras.preprocessing.image import ImageDataGenerator\n",
    "from tensorflow.keras.layers import AveragePooling2D\n",
    "from tensorflow.keras.applications import VGG16\n",
    "from tensorflow.keras.layers import Dropout\n",
    "from tensorflow.keras.layers import Flatten\n",
    "from tensorflow.keras.layers import Dense\n",
    "from tensorflow.keras.layers import Input\n",
    "from tensorflow.keras.models import Model\n",
    "from tensorflow.keras.models import load_model\n",
    "from tensorflow.keras.optimizers import Adam\n",
    "from tensorflow.keras.utils import to_categorical\n",
    "from sklearn.preprocessing import LabelBinarizer\n",
    "from sklearn.model_selection import train_test_split\n",
    "from sklearn.metrics import classification_report\n",
    "from sklearn.utils import class_weight\n",
    "from imutils import paths\n",
    "import matplotlib.pyplot as plt\n",
    "import tensorflow as tf\n",
    "print(tf.__version__)\n",
    "from tensorflow.python.keras.layers import Layer\n",
    "from tensorflow.python.keras import backend as K\n",
    "#import tensorflow_addons as tfa\n",
    "import numpy as np\n",
    "import argparse\n",
    "import cv2\n",
    "import os\n",
    "import shutil\n",
    "%matplotlib inline"
   ]
  },
  {
   "cell_type": "markdown",
   "id": "76ffbc58",
   "metadata": {},
   "source": [
    "class SppnetLayer(Layer):\n",
    "    '''This layer takes an input tensor and pools the tensor\n",
    "      in local spatial bins.\n",
    "      This layer uses Max pooling.\n",
    "      It accepts input in tensorflow format. # channels last\n",
    "\n",
    "    # Input\n",
    "        list of filter in form [x,y,z] \n",
    "    # Input shape : 4d tensor [None, X,Y, channels]\n",
    "    # Output shape : 3d tensor [None,pooled dim, channels] \n",
    "\n",
    "    '''\n",
    "    def __init__(self, filters = [1], **kwargs):\n",
    "        self.filters = filters\n",
    "        super(SppnetLayer, self).__init__(**kwargs)\n",
    "\n",
    "    def compute_output_shape(self, input_shape):\n",
    "        length = 0;\n",
    "        for f_size in self.filters:\n",
    "            length+= (f_size*f_size)\n",
    "        return (input_shape[0],length*input_shape[3])\n",
    "      \n",
    "    def get_config(self):\n",
    "        config = {'filters': self.filters}\n",
    "        base_config = super(SppnetLayer, self).get_config()\n",
    "        return dict(list(base_config.items()) + list(config.items()))\n",
    "\n",
    "    def call(self, inputs):\n",
    "      output = []\n",
    "      for f_size in self.filters:\n",
    "        win_size = K.int_shape(inputs)[1]/f_size\n",
    "        #print(win_size)\n",
    "        win_size = int(win_size)\n",
    "        for x_start in range(0,f_size):\n",
    "          for y_start in range(0,f_size):\n",
    "            X = int(x_start*win_size)\n",
    "            Y = int(y_start*win_size)\n",
    "            result = K.max(inputs[:,X:X+win_size,Y:Y+win_size,:],axis = (1,2))\n",
    "            output.append(result)\n",
    "      output = K.concatenate(output)\n",
    "      return output"
   ]
  },
  {
   "cell_type": "code",
   "execution_count": 21,
   "id": "7dab6204",
   "metadata": {},
   "outputs": [],
   "source": [
    "datasetPath=\"./classes-VIS\"\n",
    "datasetTestPath=\"./classes-VISTest\"\n",
    "\n",
    "classBi=\"bicycle\"\n",
    "classCar=\"car\"\n",
    "classBus=\"bus\"\n",
    "classTruck=\"truck\"\n",
    "classVan=\"van\"\n",
    "classMotor=\"motor\"\n",
    "\n",
    "batch_size = 32\n",
    "img_height = 50\n",
    "img_width = 50\n",
    "\n",
    "noBi=7579\n",
    "noBus=5035\n",
    "noCar=114165\n",
    "noMotor=20455\n",
    "noTruck=10790\n",
    "noVan=20508\n",
    "noClasses=6\n",
    "noTotal=178532"
   ]
  },
  {
   "cell_type": "markdown",
   "id": "06509c1e",
   "metadata": {},
   "source": [
    "#data pre-processing functions\n",
    "\n",
    "def movers(classOldPath,classNewPath):\n",
    "    imgList=os.listdir(classOldPath)\n",
    "    L=len(imgList)\n",
    "    moves=0\n",
    "    for i in range(L):\n",
    "        img=cv2.imread(os.path.join(classOldPath,imgList[i]))\n",
    "        if (img.shape[0] < 20 and img.shape[1] < 20):\n",
    "            shutil.move(os.path.join(classOldPath,imgList[i]),os.path.join(classNewPath,imgList[i]))\n",
    "            moves = moves + 1\n",
    "    print(\"Total moves==> \", moves)   \n",
    "    "
   ]
  },
  {
   "cell_type": "markdown",
   "id": "b1663767",
   "metadata": {},
   "source": [
    "#data pre-processing TEST\n",
    "datasetNewTestPath=\"./VISTEST-20x20\"\n",
    "#Bicycle class \n",
    "classOldPath=os.path.join(datasetTestPath,classBi)\n",
    "classNewPath=os.path.join(datasetNewTestPath,classBi)\n",
    "movers(classOldPath,classNewPath) \n",
    "\n",
    "#Bus class \n",
    "classOldPath=os.path.join(datasetTestPath,classBus)\n",
    "classNewPath=os.path.join(datasetNewTestPath,classBus)\n",
    "movers(classOldPath,classNewPath) \n",
    "\n",
    "#Car class \n",
    "classOldPath=os.path.join(datasetTestPath,classCar)\n",
    "classNewPath=os.path.join(datasetNewTestPath,classCar)\n",
    "movers(classOldPath,classNewPath) \n",
    "\n",
    "#Truck class \n",
    "classOldPath=os.path.join(datasetTestPath,classTruck)\n",
    "classNewPath=os.path.join(datasetNewTestPath,classTruck)\n",
    "movers(classOldPath,classNewPath) \n",
    "\n",
    "#Motor class \n",
    "classOldPath=os.path.join(datasetTestPath,classMotor)\n",
    "classNewPath=os.path.join(datasetNewTestPath,classMotor)\n",
    "movers(classOldPath,classNewPath) \n",
    "\n",
    "#Van class \n",
    "classOldPath=os.path.join(datasetTestPath,classVan)\n",
    "classNewPath=os.path.join(datasetNewTestPath,classVan)\n",
    "movers(classOldPath,classNewPath) \n"
   ]
  },
  {
   "cell_type": "markdown",
   "id": "41228e9c",
   "metadata": {},
   "source": [
    "#data pre-processing TRAIN\n",
    "datasetNewPath=\"./VIS-20x20\"\n",
    "datasetNewTestPath=\"./VISTEST-20x20\"\n",
    "\n",
    "#Bicycle class \n",
    "classOldPath=os.path.join(datasetPath,classBi)\n",
    "classNewPath=os.path.join(datasetNewPath,classBi)\n",
    "movers(classOldPath,classNewPath) \n",
    "\n",
    "#Bus class \n",
    "classOldPath=os.path.join(datasetPath,classBus)\n",
    "classNewPath=os.path.join(datasetNewPath,classBus)\n",
    "movers(classOldPath,classNewPath) \n",
    "\n",
    "#Car class \n",
    "classOldPath=os.path.join(datasetPath,classCar)\n",
    "classNewPath=os.path.join(datasetNewPath,classCar)\n",
    "movers(classOldPath,classNewPath) \n",
    "\n",
    "#Truck class \n",
    "classOldPath=os.path.join(datasetPath,classTruck)\n",
    "classNewPath=os.path.join(datasetNewPath,classTruck)\n",
    "movers(classOldPath,classNewPath) \n",
    "\n",
    "#Motor class \n",
    "classOldPath=os.path.join(datasetPath,classMotor)\n",
    "classNewPath=os.path.join(datasetNewPath,classMotor)\n",
    "movers(classOldPath,classNewPath) \n",
    "\n",
    "#Van class \n",
    "classOldPath=os.path.join(datasetPath,classVan)\n",
    "classNewPath=os.path.join(datasetNewPath,classVan)\n",
    "movers(classOldPath,classNewPath) \n"
   ]
  },
  {
   "cell_type": "code",
   "execution_count": 22,
   "id": "802fa252",
   "metadata": {},
   "outputs": [
    {
     "name": "stdout",
     "output_type": "stream",
     "text": [
      "Found 142827 images belonging to 6 classes.\n",
      "Found 35705 images belonging to 6 classes.\n",
      "Found 9032 images belonging to 6 classes.\n"
     ]
    },
    {
     "data": {
      "text/plain": [
       "'\\ntrain_ds = tf.keras.utils.image_dataset_from_directory(\\n  datasetPath,\\n  validation_split=0.2,\\n  subset=\"training\",\\n  seed=123,\\n  image_size=(img_height, img_width),\\n  batch_size=batch_size)\\nval_ds = tf.keras.utils.image_dataset_from_directory(\\n  datasetPath,\\n  validation_split=0.2,\\n  subset=\"validation\",\\n  seed=123,\\n  image_size=(img_height, img_width),\\n  batch_size=batch_size)\\ntest_ds = tf.keras.utils.image_dataset_from_directory(\\n  datasetTestPath,\\n  validation_split=0,\\n  subset=\"validation\",\\n  seed=123,\\n  image_size=(img_height, img_width),\\n  batch_size=batch_size)\\n  '"
      ]
     },
     "execution_count": 22,
     "metadata": {},
     "output_type": "execute_result"
    }
   ],
   "source": [
    "datagen = ImageDataGenerator(rescale = 1./255,validation_split=0.2)\n",
    "datagen1 = ImageDataGenerator(rescale = 1./255)\n",
    "\n",
    "train_ds=datagen.flow_from_directory(datasetPath,                        \n",
    "batch_size = batch_size,\n",
    "shuffle=True,\n",
    "seed=123,  \n",
    "color_mode='rgb',\n",
    "interpolation=\"lanczos\",                                     \n",
    "class_mode = 'categorical',\n",
    "subset='training')\n",
    "\n",
    "val_ds=datagen.flow_from_directory(datasetPath,                        \n",
    "batch_size = batch_size,\n",
    "shuffle=True,\n",
    "seed=123, \n",
    "color_mode='rgb',\n",
    "interpolation=\"lanczos\",                                   \n",
    "class_mode = 'categorical',\n",
    "subset='validation')\n",
    "\n",
    "test_ds=datagen1.flow_from_directory(datasetTestPath,                        \n",
    "batch_size =1,\n",
    "shuffle=False, \n",
    " color_mode='rgb',\n",
    "interpolation=\"lanczos\",                                    \n",
    "class_mode = 'categorical')\n",
    "\n",
    "'''\n",
    "train_ds = tf.keras.utils.image_dataset_from_directory(\n",
    "  datasetPath,\n",
    "  validation_split=0.2,\n",
    "  subset=\"training\",\n",
    "  seed=123,\n",
    "  image_size=(img_height, img_width),\n",
    "  batch_size=batch_size)\n",
    "val_ds = tf.keras.utils.image_dataset_from_directory(\n",
    "  datasetPath,\n",
    "  validation_split=0.2,\n",
    "  subset=\"validation\",\n",
    "  seed=123,\n",
    "  image_size=(img_height, img_width),\n",
    "  batch_size=batch_size)\n",
    "test_ds = tf.keras.utils.image_dataset_from_directory(\n",
    "  datasetTestPath,\n",
    "  validation_split=0,\n",
    "  subset=\"validation\",\n",
    "  seed=123,\n",
    "  image_size=(img_height, img_width),\n",
    "  batch_size=batch_size)\n",
    "  '''"
   ]
  },
  {
   "cell_type": "code",
   "execution_count": 33,
   "id": "345522a0",
   "metadata": {},
   "outputs": [
    {
     "name": "stdout",
     "output_type": "stream",
     "text": [
      "<keras_preprocessing.image.directory_iterator.DirectoryIterator object at 0x7f9995bd3c50>\n"
     ]
    }
   ],
   "source": [
    "print(test_ds)"
   ]
  },
  {
   "cell_type": "markdown",
   "id": "68bdb4e0",
   "metadata": {},
   "source": [
    "class_weights = class_weight.compute_class_weight(\n",
    "           'balanced',\n",
    "            np.unique(train_ds.classes), \n",
    "            train_ds.classes)\n",
    "train_class_weights = dict(enumerate(class_weights))\n",
    "print(train_class_weights)"
   ]
  },
  {
   "cell_type": "code",
   "execution_count": 23,
   "id": "b0ede619",
   "metadata": {},
   "outputs": [
    {
     "name": "stdout",
     "output_type": "stream",
     "text": [
      "{0: 3.9260236618727187, 1: 5.9096987752399865, 2: 0.2606344618169608, 3: 1.4546728591216491, 4: 2.757676861291319, 5: 1.4509134646641961}\n"
     ]
    }
   ],
   "source": [
    "\n",
    "wBi=(noTotal / (noClasses * noBi))\n",
    "wBus=(noTotal / (noClasses * noBus))\n",
    "wCar=(noTotal / (noClasses * noCar))\n",
    "wMotor=(noTotal / (noClasses * noMotor))\n",
    "wTruck=(noTotal / (noClasses * noTruck))\n",
    "wVan=(noTotal / (noClasses * noVan))\n",
    "\n",
    "W=dict([(0,wBi), (1,wBus), (2, wCar), (3,wMotor), (4, wTruck), (5,wVan)])\n",
    "print(W)"
   ]
  },
  {
   "cell_type": "markdown",
   "id": "94421e40",
   "metadata": {},
   "source": [
    "for img,lbl in test_ds:\n",
    "    print(np.argmax(lbl, axis = 1))\n",
    "    print(lbl)\n",
    "    i=i+1\n",
    "    if(i>10):\n",
    "        break"
   ]
  },
  {
   "cell_type": "code",
   "execution_count": 24,
   "id": "8b8fc832",
   "metadata": {},
   "outputs": [],
   "source": [
    "model = tf.keras.models.Sequential([\n",
    "    tf.keras.layers.Conv2D(filters=96,kernel_size=(11,11),strides=(4,4),padding='same') ,\n",
    "    tf.keras.layers.BatchNormalization(),\n",
    "    tf.keras.layers.Activation('relu'),\n",
    "    tf.keras.layers.MaxPooling2D(pool_size=(2,2), strides=(2,2), padding='same'),\n",
    "    \n",
    "    tf.keras.layers.Conv2D(filters=256,kernel_size=(5,5),strides=(1,1),padding='same' ) ,  \n",
    "    tf.keras.layers.BatchNormalization(),\n",
    "    tf.keras.layers.Activation('relu'),\n",
    "    tf.keras.layers.MaxPooling2D(pool_size=(2,2), strides=(2,2), padding='same'),\n",
    "    \n",
    "    tf.keras.layers.Conv2D(filters=384,kernel_size=(3,3),strides=(1,1), padding='same') ,  \n",
    "    tf.keras.layers.BatchNormalization(),\n",
    "    tf.keras.layers.Activation('relu'),\n",
    "    \n",
    "    tf.keras.layers.Conv2D(filters=384,kernel_size=(3,3),strides=(1,1),padding='same') ,  \n",
    "    tf.keras.layers.BatchNormalization(),\n",
    "    tf.keras.layers.Activation('relu'),\n",
    "    \n",
    "    tf.keras.layers.Conv2D(filters=256,kernel_size=(3,3),strides=(1,1), padding='same') ,  \n",
    "    tf.keras.layers.BatchNormalization(),\n",
    "    tf.keras.layers.Activation('relu'),\n",
    "    #tf.keras.layers.MaxPooling2D(pool_size=(2,2), strides=(2,2), padding='same'),\n",
    "    tf.keras.layers.GlobalAveragePooling2D(),\n",
    "    #tf.keras.layers.BatchNormalization(),\n",
    "    #SppnetLayer([1,2,4]),\n",
    "    #tfa.layers.SpatialPyramidPooling2D([1,2,4],data_format='channels_last'),\n",
    "    tf.keras.layers.Flatten(), \n",
    "    \n",
    "    tf.keras.layers.Dense(6),   #Adding the Output Layer\n",
    "    tf.keras.layers.BatchNormalization(),\n",
    "    tf.keras.layers.Activation('softmax'),\n",
    "    \n",
    "])"
   ]
  },
  {
   "cell_type": "code",
   "execution_count": 25,
   "id": "79b2c688",
   "metadata": {},
   "outputs": [],
   "source": [
    "#model.summary()"
   ]
  },
  {
   "cell_type": "code",
   "execution_count": 26,
   "id": "2ae28243",
   "metadata": {},
   "outputs": [],
   "source": [
    "model.compile(optimizer='adam',\n",
    "              loss='categorical_crossentropy',\n",
    "              metrics=['accuracy'])"
   ]
  },
  {
   "cell_type": "code",
   "execution_count": 27,
   "id": "f07ffa4c",
   "metadata": {},
   "outputs": [
    {
     "name": "stdout",
     "output_type": "stream",
     "text": [
      "Epoch 1/50\n",
      "4464/4464 [==============================] - 502s 112ms/step - loss: 1.4523 - accuracy: 0.3435 - val_loss: 1.2732 - val_accuracy: 0.5252\n",
      "Epoch 2/50\n",
      "4464/4464 [==============================] - 503s 113ms/step - loss: 1.1255 - accuracy: 0.5376 - val_loss: 1.0917 - val_accuracy: 0.5841\n",
      "Epoch 3/50\n",
      "4464/4464 [==============================] - 500s 112ms/step - loss: 0.9388 - accuracy: 0.6359 - val_loss: 1.0567 - val_accuracy: 0.5814\n",
      "Epoch 4/50\n",
      "4464/4464 [==============================] - 490s 110ms/step - loss: 0.8313 - accuracy: 0.6778 - val_loss: 1.2420 - val_accuracy: 0.5198\n",
      "Epoch 5/50\n",
      "4464/4464 [==============================] - 491s 110ms/step - loss: 0.7554 - accuracy: 0.7051 - val_loss: 0.9501 - val_accuracy: 0.6648\n",
      "Epoch 6/50\n",
      "4464/4464 [==============================] - 489s 110ms/step - loss: 0.7006 - accuracy: 0.7229 - val_loss: 0.9209 - val_accuracy: 0.6584\n",
      "Epoch 7/50\n",
      "4464/4464 [==============================] - 491s 110ms/step - loss: 0.6504 - accuracy: 0.7400 - val_loss: 0.7939 - val_accuracy: 0.7035\n",
      "Epoch 8/50\n",
      "4464/4464 [==============================] - 480s 107ms/step - loss: 0.6003 - accuracy: 0.7535 - val_loss: 1.2138 - val_accuracy: 0.5468\n",
      "Epoch 9/50\n",
      "4464/4464 [==============================] - 471s 106ms/step - loss: 0.5541 - accuracy: 0.7656 - val_loss: 0.5952 - val_accuracy: 0.7893\n",
      "Epoch 10/50\n",
      "4464/4464 [==============================] - 472s 106ms/step - loss: 0.5053 - accuracy: 0.7788 - val_loss: 0.7770 - val_accuracy: 0.7246\n",
      "Epoch 11/50\n",
      "4464/4464 [==============================] - 472s 106ms/step - loss: 0.4621 - accuracy: 0.7897 - val_loss: 0.6277 - val_accuracy: 0.7717\n",
      "Epoch 12/50\n",
      "4464/4464 [==============================] - 472s 106ms/step - loss: 0.4184 - accuracy: 0.8022 - val_loss: 0.6672 - val_accuracy: 0.7659\n",
      "Epoch 13/50\n",
      "4464/4464 [==============================] - 472s 106ms/step - loss: 0.3778 - accuracy: 0.8148 - val_loss: 0.5959 - val_accuracy: 0.7913\n",
      "Epoch 14/50\n",
      "4464/4464 [==============================] - 471s 105ms/step - loss: 0.3433 - accuracy: 0.8238 - val_loss: 0.6197 - val_accuracy: 0.7747\n",
      "Epoch 15/50\n",
      "4464/4464 [==============================] - 470s 105ms/step - loss: 0.3070 - accuracy: 0.8384 - val_loss: 0.7713 - val_accuracy: 0.7306\n",
      "Epoch 16/50\n",
      "4464/4464 [==============================] - 470s 105ms/step - loss: 0.2750 - accuracy: 0.8484 - val_loss: 0.6236 - val_accuracy: 0.7827\n",
      "Epoch 17/50\n",
      "4464/4464 [==============================] - 465s 104ms/step - loss: 0.2429 - accuracy: 0.8596 - val_loss: 0.5804 - val_accuracy: 0.8200\n",
      "Epoch 18/50\n",
      "4464/4464 [==============================] - 465s 104ms/step - loss: 0.2188 - accuracy: 0.8726 - val_loss: 0.6188 - val_accuracy: 0.8045\n",
      "Epoch 19/50\n",
      "4464/4464 [==============================] - 466s 104ms/step - loss: 0.1938 - accuracy: 0.8817 - val_loss: 0.6914 - val_accuracy: 0.7748\n",
      "Epoch 20/50\n",
      "4464/4464 [==============================] - 465s 104ms/step - loss: 0.1697 - accuracy: 0.8949 - val_loss: 0.7247 - val_accuracy: 0.7610\n",
      "Epoch 21/50\n",
      "4464/4464 [==============================] - 465s 104ms/step - loss: 0.1554 - accuracy: 0.9025 - val_loss: 0.6992 - val_accuracy: 0.7875\n",
      "Epoch 22/50\n",
      "4464/4464 [==============================] - 465s 104ms/step - loss: 0.1436 - accuracy: 0.9097 - val_loss: 0.7380 - val_accuracy: 0.7856\n",
      "Epoch 23/50\n",
      "4464/4464 [==============================] - 466s 104ms/step - loss: 0.1294 - accuracy: 0.9173 - val_loss: 0.6008 - val_accuracy: 0.8353\n",
      "Epoch 24/50\n",
      "4464/4464 [==============================] - 465s 104ms/step - loss: 0.1233 - accuracy: 0.9223 - val_loss: 0.8697 - val_accuracy: 0.7469\n",
      "Epoch 25/50\n",
      "4464/4464 [==============================] - 466s 104ms/step - loss: 0.1114 - accuracy: 0.9287 - val_loss: 0.7716 - val_accuracy: 0.7767\n",
      "Epoch 26/50\n",
      "4464/4464 [==============================] - 466s 104ms/step - loss: 0.1028 - accuracy: 0.9332 - val_loss: 0.7292 - val_accuracy: 0.8213\n",
      "Epoch 27/50\n",
      "4464/4464 [==============================] - 465s 104ms/step - loss: 0.0924 - accuracy: 0.9395 - val_loss: 0.6941 - val_accuracy: 0.8234\n",
      "Epoch 28/50\n",
      "4464/4464 [==============================] - 467s 105ms/step - loss: 0.0900 - accuracy: 0.9416 - val_loss: 0.9823 - val_accuracy: 0.7363\n",
      "Epoch 29/50\n",
      "4464/4464 [==============================] - 467s 105ms/step - loss: 0.0838 - accuracy: 0.9452 - val_loss: 0.7470 - val_accuracy: 0.8056\n",
      "Epoch 30/50\n",
      "4464/4464 [==============================] - 473s 106ms/step - loss: 0.0786 - accuracy: 0.9487 - val_loss: 0.7492 - val_accuracy: 0.8187\n",
      "Epoch 31/50\n",
      "4464/4464 [==============================] - 476s 107ms/step - loss: 0.0762 - accuracy: 0.9513 - val_loss: 0.7955 - val_accuracy: 0.7982\n",
      "Epoch 32/50\n",
      "4464/4464 [==============================] - 471s 106ms/step - loss: 0.0717 - accuracy: 0.9536 - val_loss: 0.7588 - val_accuracy: 0.8211\n",
      "Epoch 33/50\n",
      "4464/4464 [==============================] - 472s 106ms/step - loss: 0.0675 - accuracy: 0.9563 - val_loss: 1.0788 - val_accuracy: 0.7345\n",
      "Epoch 34/50\n",
      "4464/4464 [==============================] - 472s 106ms/step - loss: 0.0644 - accuracy: 0.9577 - val_loss: 0.7825 - val_accuracy: 0.8286\n",
      "Epoch 35/50\n",
      "4464/4464 [==============================] - 474s 106ms/step - loss: 0.0631 - accuracy: 0.9602 - val_loss: 0.7986 - val_accuracy: 0.8322\n",
      "Epoch 36/50\n",
      "4464/4464 [==============================] - 476s 107ms/step - loss: 0.0555 - accuracy: 0.9629 - val_loss: 0.9117 - val_accuracy: 0.8165\n",
      "Epoch 37/50\n",
      "4464/4464 [==============================] - 472s 106ms/step - loss: 0.0608 - accuracy: 0.9619 - val_loss: 0.8519 - val_accuracy: 0.8041\n",
      "Epoch 38/50\n",
      "4464/4464 [==============================] - 471s 106ms/step - loss: 0.0567 - accuracy: 0.9649 - val_loss: 0.8764 - val_accuracy: 0.8049\n",
      "Epoch 39/50\n",
      "4464/4464 [==============================] - 473s 106ms/step - loss: 0.0517 - accuracy: 0.9659 - val_loss: 0.7996 - val_accuracy: 0.8106\n",
      "Epoch 40/50\n",
      "4464/4464 [==============================] - 474s 106ms/step - loss: 0.0482 - accuracy: 0.9679 - val_loss: 0.8575 - val_accuracy: 0.8008\n",
      "Epoch 41/50\n",
      "4464/4464 [==============================] - 475s 106ms/step - loss: 0.0491 - accuracy: 0.9691 - val_loss: 0.9095 - val_accuracy: 0.7885\n",
      "Epoch 42/50\n",
      "4464/4464 [==============================] - 474s 106ms/step - loss: 0.0484 - accuracy: 0.9694 - val_loss: 0.8140 - val_accuracy: 0.8177\n",
      "Epoch 43/50\n",
      "4464/4464 [==============================] - 475s 106ms/step - loss: 0.0433 - accuracy: 0.9721 - val_loss: 1.0113 - val_accuracy: 0.7730\n",
      "Epoch 44/50\n",
      "4464/4464 [==============================] - 473s 106ms/step - loss: 0.0436 - accuracy: 0.9711 - val_loss: 0.8261 - val_accuracy: 0.8113\n",
      "Epoch 45/50\n",
      "4464/4464 [==============================] - 481s 108ms/step - loss: 0.0446 - accuracy: 0.9716 - val_loss: 0.8471 - val_accuracy: 0.8159\n",
      "Epoch 46/50\n",
      "4464/4464 [==============================] - 481s 108ms/step - loss: 0.0446 - accuracy: 0.9727 - val_loss: 0.9214 - val_accuracy: 0.7949\n",
      "Epoch 47/50\n",
      "4464/4464 [==============================] - 480s 108ms/step - loss: 0.0410 - accuracy: 0.9748 - val_loss: 0.8086 - val_accuracy: 0.8414\n",
      "Epoch 48/50\n",
      "4464/4464 [==============================] - 478s 107ms/step - loss: 0.0409 - accuracy: 0.9751 - val_loss: 0.9708 - val_accuracy: 0.7873\n",
      "Epoch 49/50\n",
      "4464/4464 [==============================] - 479s 107ms/step - loss: 0.0382 - accuracy: 0.9757 - val_loss: 0.8747 - val_accuracy: 0.8173\n",
      "Epoch 50/50\n",
      "4464/4464 [==============================] - 475s 106ms/step - loss: 0.0383 - accuracy: 0.9767 - val_loss: 0.8784 - val_accuracy: 0.8327\n"
     ]
    }
   ],
   "source": [
    "history = model.fit(train_ds, epochs=50, class_weight=W,\n",
    "                    validation_data=val_ds)"
   ]
  },
  {
   "cell_type": "code",
   "execution_count": 28,
   "id": "875fdbc8",
   "metadata": {},
   "outputs": [
    {
     "name": "stdout",
     "output_type": "stream",
     "text": [
      "1116/1116 - 91s - loss: 0.8784 - accuracy: 0.8327\n",
      "Validation stats:\n",
      "0.8784210085868835 0.8327404856681824\n",
      "9032/9032 - 69s - loss: 1.1604 - accuracy: 0.7862\n",
      "Test stats:\n",
      "1.1603800058364868 0.7862045764923096\n"
     ]
    },
    {
     "data": {
      "image/png": "[encoded data removed]",
      "text/plain": [
       "<Figure size 432x288 with 1 Axes>"
      ]
     },
     "metadata": {
      "needs_background": "light"
     },
     "output_type": "display_data"
    }
   ],
   "source": [
    "plt.plot(history.history['accuracy'],label='accuracy')\n",
    "plt.plot(history.history['val_accuracy'],label = 'val_accuracy')\n",
    "plt.xlabel('Epoch')\n",
    "plt.ylabel('Accuracy')\n",
    "plt.ylim([0.5, 1])\n",
    "plt.legend(loc='lower right')\n",
    "\n",
    "test_loss, test_acc = model.evaluate(val_ds,\n",
    "                                     verbose=2)\n",
    "print(\"Validation stats:\")\n",
    "print(test_loss,test_acc)\n",
    "test_loss, test_acc = model.evaluate(test_ds,\n",
    "                                     verbose=2)\n",
    "print(\"Test stats:\")\n",
    "print(test_loss,test_acc)\n"
   ]
  },
  {
   "cell_type": "code",
   "execution_count": 29,
   "id": "4f95a5bf",
   "metadata": {},
   "outputs": [
    {
     "name": "stdout",
     "output_type": "stream",
     "text": [
      "{'bicycle': 0, 'bus': 1, 'car': 2, 'motor': 3, 'truck': 4, 'van': 5}\n",
      "{'bicycle': 0, 'bus': 1, 'car': 2, 'motor': 3, 'truck': 4, 'van': 5}\n",
      "{'bicycle': 0, 'bus': 1, 'car': 2, 'motor': 3, 'truck': 4, 'van': 5}\n"
     ]
    }
   ],
   "source": [
    "print(test_ds.class_indices)\n",
    "print(train_ds.class_indices)\n",
    "print(val_ds.class_indices)"
   ]
  },
  {
   "cell_type": "code",
   "execution_count": 30,
   "id": "65147443",
   "metadata": {},
   "outputs": [
    {
     "name": "stdout",
     "output_type": "stream",
     "text": [
      "              precision    recall  f1-score   support\n",
      "\n",
      "           0       0.77      0.64      0.70       806\n",
      "           1       0.67      0.79      0.73       446\n",
      "           2       0.82      0.91      0.87      4300\n",
      "           3       0.71      0.80      0.75      1186\n",
      "           4       0.83      0.66      0.74       989\n",
      "           5       0.74      0.53      0.62      1305\n",
      "\n",
      "    accuracy                           0.79      9032\n",
      "   macro avg       0.76      0.72      0.73      9032\n",
      "weighted avg       0.79      0.79      0.78      9032\n",
      "\n"
     ]
    }
   ],
   "source": [
    "test_ds.reset()\n",
    "y_pred = model.predict(test_ds)\n",
    "predicted_categories = np.argmax(y_pred, axis = 1)\n",
    "print(classification_report(test_ds.classes,predicted_categories))"
   ]
  },
  {
   "cell_type": "code",
   "execution_count": 31,
   "id": "35ccab92",
   "metadata": {},
   "outputs": [
    {
     "name": "stdout",
     "output_type": "stream",
     "text": [
      "              precision    recall  f1-score   support\n",
      "\n",
      "     bicycle       0.77      0.64      0.70       806\n",
      "         bus       0.67      0.79      0.73       446\n",
      "         car       0.82      0.91      0.87      4300\n",
      "       motor       0.71      0.80      0.75      1186\n",
      "       truck       0.83      0.66      0.74       989\n",
      "         van       0.74      0.53      0.62      1305\n",
      "\n",
      "    accuracy                           0.79      9032\n",
      "   macro avg       0.76      0.72      0.73      9032\n",
      "weighted avg       0.79      0.79      0.78      9032\n",
      "\n"
     ]
    }
   ],
   "source": [
    "test_ds.reset()\n",
    "y_pred = model.predict(test_ds)\n",
    "predicted_categories = np.argmax(y_pred, axis = 1)\n",
    "print(classification_report(test_ds.classes,predicted_categories,target_names=('bicycle','bus','car','motor','truck','van')))"
   ]
  },
  {
   "cell_type": "code",
   "execution_count": 32,
   "id": "13a997c4",
   "metadata": {},
   "outputs": [],
   "source": [
    "model.save(\"ALEXNET_v4.h5\")"
   ]
  },
  {
   "cell_type": "markdown",
   "id": "97c19d7c",
   "metadata": {},
   "source": [
    "predicted_categories = np.argmax(y_pred, axis = 1)\n",
    "#print(predicted_categories[:2])\n",
    "print(train_ds.class_indices)\n",
    "#print(val_ds.class_indices)\n",
    "#print(test_ds.class_indices)\n",
    "#print(len(test_ds.classes))\n",
    "\n",
    "tf.keras.metrics.categorical_accuracy(,y_pred)\n",
    "true_categories = tf.concat([y for x, y in test_ds], axis = 0).numpy() \n",
    "true_labels = np.argmax(true_categories, axis = 1)\n",
    "print(type(true_labels))\n",
    "\n",
    "print(classification_report(true_labels,predicted_categories))"
   ]
  },
  {
   "cell_type": "markdown",
   "id": "139ad762",
   "metadata": {},
   "source": [
    "STEP_SIZE_TEST=val_ds.n/val_ds.batch_size\n",
    "val_ds.reset()\n",
    "pred=model.predict_generator(val_ds,\n",
    "steps=STEP_SIZE_TEST,\n",
    "verbose=1)\n",
    "predicted_categories = np.argmax(pred, axis = 1)\n",
    "print(classification_report(true_labels,predicted_categories))"
   ]
  },
  {
   "cell_type": "markdown",
   "id": "61ddf015",
   "metadata": {},
   "source": [
    "labels = (train_ds.class_indices)\n",
    "labels = dict((v,k) for k,v in labels.items())\n",
    "predictions = [labels[k] for k in predicted_categories]\n",
    "print(classification_report(true_labels,predictions))\n"
   ]
  },
  {
   "cell_type": "code",
   "execution_count": null,
   "id": "cd167749",
   "metadata": {},
   "outputs": [],
   "source": []
  }
 ],
 "metadata": {
  "kernelspec": {
   "display_name": "Python [conda env:alexNet]",
   "language": "python",
   "name": "conda-env-alexNet-py"
  },
  "language_info": {
   "codemirror_mode": {
    "name": "ipython",
    "version": 3
   },
   "file_extension": ".py",
   "mimetype": "text/x-python",
   "name": "python",
   "nbconvert_exporter": "python",
   "pygments_lexer": "ipython3",
   "version": "3.9.7"
  }
 },
 "nbformat": 4,
 "nbformat_minor": 5
}
